{
  "nbformat": 4,
  "nbformat_minor": 0,
  "metadata": {
    "colab": {
      "provenance": [],
      "include_colab_link": true
    },
    "kernelspec": {
      "name": "python3",
      "display_name": "Python 3"
    },
    "language_info": {
      "name": "python"
    }
  },
  "cells": [
    {
      "cell_type": "markdown",
      "metadata": {
        "id": "view-in-github",
        "colab_type": "text"
      },
      "source": [
        "<a href=\"https://colab.research.google.com/github/vindhyavikas54/Mini-project/blob/main/early_prediction_of_pcos.ipynb\" target=\"_parent\"><img src=\"https://colab.research.google.com/assets/colab-badge.svg\" alt=\"Open In Colab\"/></a>"
      ]
    },
    {
      "cell_type": "markdown",
      "source": [
        "KNN Algorithm\n",
        "\n",
        "K Nearest Neighbour"
      ],
      "metadata": {
        "id": "GwXPRcBn0TyQ"
      }
    },
    {
      "cell_type": "code",
      "execution_count": null,
      "metadata": {
        "colab": {
          "base_uri": "https://localhost:8080/"
        },
        "id": "BvCS8D5TvsDo",
        "outputId": "e4fb5d75-b5af-41f9-c2cd-9758a7a20bd6"
      },
      "outputs": [
        {
          "output_type": "stream",
          "name": "stdout",
          "text": [
            "KNN - Accuracy: 0.8235294117647058\n"
          ]
        }
      ],
      "source": [
        "import pandas as pd\n",
        "from sklearn.model_selection import train_test_split\n",
        "from sklearn.preprocessing import LabelEncoder, StandardScaler\n",
        "from sklearn.neighbors import KNeighborsClassifier\n",
        "from sklearn.metrics import accuracy_score, classification_report\n",
        "from sklearn.linear_model import LogisticRegression\n",
        "from sklearn.metrics import accuracy_score, classification_report\n",
        "\n",
        "\n",
        "data = pd.read_csv(\"/content/College project - early prediction of PCOS (Responses) - Form Responses 1 (1).csv\")\n",
        "\n",
        "\n",
        "X = data.drop(columns=['Timestamp', 'Gender','Name', 'Have you been diagnosed with PCOS/PCOD','Location','Unnamed: 25'])  # Replace 'Target_Column_Name' with the actual name of your target column\n",
        "\n",
        "label_encoder = LabelEncoder()\n",
        "for col in X.select_dtypes(include=['object']):\n",
        "    X[col] = label_encoder.fit_transform(X[col])\n",
        "\n",
        "\n",
        "X_train, X_test, y_train, y_test = train_test_split(X, data['Have you been diagnosed with PCOS/PCOD'], test_size=0.2, random_state=20)\n",
        "\n",
        "\n",
        "scaler = StandardScaler()\n",
        "X_train_scaled = scaler.fit_transform(X_train)\n",
        "X_test_scaled = scaler.transform(X_test)\n",
        "\n",
        "\n",
        "knn = KNeighborsClassifier(n_neighbors=7)\n",
        "knn.fit(X_train_scaled, y_train)\n",
        "\n",
        "\n",
        "y_pred = knn.predict(X_test_scaled)\n",
        "\n",
        "accuracy = accuracy_score(y_test, y_pred)\n",
        "print(\"KNN - Accuracy:\", accuracy)\n"
      ]
    },
    {
      "cell_type": "markdown",
      "source": [
        "Logistic Regression"
      ],
      "metadata": {
        "id": "R135IoY30oxO"
      }
    },
    {
      "cell_type": "code",
      "source": [
        "X_train, X_test, y_train, y_test = train_test_split(X, data['Have you been diagnosed with PCOS/PCOD'], test_size=0.3, random_state=60)\n",
        "\n",
        "scaler = StandardScaler()\n",
        "X_train_scaled = scaler.fit_transform(X_train)\n",
        "X_test_scaled = scaler.transform(X_test)\n",
        "\n",
        "logistic_reg = LogisticRegression(max_iter=3000)\n",
        "logistic_reg.fit(X_train_scaled, y_train)\n",
        "\n",
        "y_pred = logistic_reg.predict(X_test_scaled)\n",
        "\n",
        "accuracy = accuracy_score(y_test, y_pred)\n",
        "print(\" Logistic Regression Accuracy:\", accuracy)"
      ],
      "metadata": {
        "colab": {
          "base_uri": "https://localhost:8080/"
        },
        "id": "TxgNNU8y0oAW",
        "outputId": "75caa663-3b0b-4cf3-94ea-7ce778cb8ba9"
      },
      "execution_count": null,
      "outputs": [
        {
          "output_type": "stream",
          "name": "stdout",
          "text": [
            " Logistic Regression Accuracy: 0.8627450980392157\n"
          ]
        }
      ]
    },
    {
      "cell_type": "markdown",
      "source": [
        "Decision Tree Algorithm"
      ],
      "metadata": {
        "id": "8c8hufgx1Zlr"
      }
    },
    {
      "cell_type": "code",
      "source": [
        "from sklearn.model_selection import train_test_split\n",
        "from sklearn.tree import DecisionTreeClassifier\n",
        "from sklearn.metrics import accuracy_score\n",
        "from sklearn.preprocessing import StandardScaler\n",
        "\n",
        "df = pd.read_csv(\"/content/College project - early prediction of PCOS (Responses) - Form Responses 1 (1).csv\")\n",
        "\n",
        "X = df.drop(columns=['Timestamp', 'Name','Have you been diagnosed with PCOS/PCOD','Gender','Location','Unnamed: 25'])\n",
        "y = df['Have you been diagnosed with PCOS/PCOD']\n",
        "\n",
        "from sklearn.preprocessing import LabelEncoder, StandardScaler\n",
        "label_encoder = LabelEncoder()\n",
        "for col in X.select_dtypes(include=['object']):\n",
        "  X[col] = label_encoder.fit_transform(X[col])\n",
        "\n",
        "X_train, X_test, y_train, y_test = train_test_split(X, y, test_size=0.18, random_state=88)\n",
        "\n",
        "scaler = StandardScaler()\n",
        "X_train_scaled = scaler.fit_transform(X_train)\n",
        "X_test_scaled = scaler.transform(X_test)\n",
        "\n",
        "dt_classifier = DecisionTreeClassifier(random_state=88)\n",
        "\n",
        "dt_classifier.fit(X_train_scaled, y_train)\n",
        "\n",
        "y_pred = dt_classifier.predict(X_test_scaled)\n",
        "\n",
        "accuracy = accuracy_score(y_test, y_pred)\n",
        "print(\"Decision Tree Accuracy:\", accuracy)"
      ],
      "metadata": {
        "colab": {
          "base_uri": "https://localhost:8080/"
        },
        "id": "mfZIKO8m2MoC",
        "outputId": "3dd8b070-1d6f-4530-8ab9-e01f98f852c8"
      },
      "execution_count": null,
      "outputs": [
        {
          "output_type": "stream",
          "name": "stdout",
          "text": [
            "Decision Tree Accuracy: 0.8858695652173914\n"
          ]
        }
      ]
    },
    {
      "cell_type": "markdown",
      "source": [
        "Linear SVM\n"
      ],
      "metadata": {
        "id": "jB22ddKH39nw"
      }
    },
    {
      "cell_type": "code",
      "source": [
        "import pandas as pd\n",
        "from sklearn.model_selection import train_test_split\n",
        "from sklearn.svm import SVC\n",
        "from sklearn.metrics import accuracy_score\n",
        "from sklearn.preprocessing import StandardScaler\n",
        "\n",
        "df = pd.read_csv(\"/content/College project - early prediction of PCOS (Responses) - Form Responses 1 (1).csv\")\n",
        "\n",
        "X = df.drop(columns=['Timestamp', 'Name','Have you been diagnosed with PCOS/PCOD','Gender','Location','Unnamed: 25'])\n",
        "y = df['Have you been diagnosed with PCOS/PCOD']\n",
        "\n",
        "from sklearn.preprocessing import LabelEncoder, StandardScaler\n",
        "label_encoder = LabelEncoder()\n",
        "for col in X.select_dtypes(include=['object']):\n",
        "  X[col] = label_encoder.fit_transform(X[col])\n",
        "\n",
        "\n",
        "X_train, X_test, y_train, y_test = train_test_split(X, y, test_size=0.1, random_state=10)\n",
        "\n",
        "\n",
        "scaler = StandardScaler()\n",
        "X_train_scaled = scaler.fit_transform(X_train)\n",
        "X_test_scaled = scaler.transform(X_test)\n",
        "\n",
        "\n",
        "svm_classifier = SVC(kernel='linear', random_state=10)\n",
        "\n",
        "\n",
        "svm_classifier.fit(X_train_scaled, y_train)\n",
        "\n",
        "y_pred = svm_classifier.predict(X_test_scaled)\n",
        "\n",
        "accuracy = accuracy_score(y_test, y_pred)\n",
        "print(\"Linear SVM Accuracy:\", accuracy)\n",
        "\n"
      ],
      "metadata": {
        "colab": {
          "base_uri": "https://localhost:8080/"
        },
        "id": "jlcy4_JS4K2B",
        "outputId": "79a6d5f5-f8d9-4b58-9d23-a3041205fec9"
      },
      "execution_count": null,
      "outputs": [
        {
          "output_type": "stream",
          "name": "stdout",
          "text": [
            "Linear SVM Accuracy: 0.9411764705882353\n"
          ]
        }
      ]
    },
    {
      "cell_type": "markdown",
      "source": [
        "Random Forest"
      ],
      "metadata": {
        "id": "UkcIYr4o99xP"
      }
    },
    {
      "cell_type": "code",
      "source": [
        "import pandas as pd\n",
        "from sklearn.model_selection import train_test_split\n",
        "from sklearn.ensemble import RandomForestClassifier\n",
        "from sklearn.metrics import accuracy_score\n",
        "from sklearn.preprocessing import StandardScaler\n",
        "\n",
        "df = pd.read_csv(\"/content/College project - early prediction of PCOS (Responses) - Form Responses 1 (1).csv\")\n",
        "\n",
        "X = df.drop(columns=['Timestamp', 'Name','Have you been diagnosed with PCOS/PCOD','Gender','Location','Unnamed: 25'])\n",
        "y = df['Have you been diagnosed with PCOS/PCOD']\n",
        "\n",
        "from sklearn.preprocessing import LabelEncoder, StandardScaler\n",
        "label_encoder = LabelEncoder()\n",
        "for col in X.select_dtypes(include=['object']):\n",
        "  X[col] = label_encoder.fit_transform(X[col])\n",
        "\n",
        "X_train, X_test, y_train, y_test = train_test_split(X, y, test_size=0.3, random_state=90)\n",
        "\n",
        "scaler = StandardScaler()\n",
        "X_train_scaled = scaler.fit_transform(X_train)\n",
        "X_test_scaled = scaler.transform(X_test)\n",
        "\n",
        "rf_classifier = RandomForestClassifier(n_estimators=400, random_state=90)\n",
        "\n",
        "rf_classifier.fit(X_train_scaled, y_train)\n",
        "\n",
        "y_pred = rf_classifier.predict(X_test_scaled)\n",
        "\n",
        "accuracy = accuracy_score(y_test, y_pred)\n",
        "print(\"Random forest Accuracy:\", accuracy)"
      ],
      "metadata": {
        "colab": {
          "base_uri": "https://localhost:8080/"
        },
        "id": "O3TnJ8SL4yEt",
        "outputId": "025cefe2-2acd-4109-f019-608bc918924e"
      },
      "execution_count": null,
      "outputs": [
        {
          "output_type": "stream",
          "name": "stdout",
          "text": [
            "Random forest Accuracy: 0.9183006535947712\n"
          ]
        }
      ]
    },
    {
      "cell_type": "markdown",
      "source": [
        "Gaussian Naive Bayes"
      ],
      "metadata": {
        "id": "YsChYSRP_ZVU"
      }
    },
    {
      "cell_type": "code",
      "source": [
        "import pandas as pd\n",
        "from sklearn.model_selection import train_test_split\n",
        "from sklearn.preprocessing import LabelEncoder, StandardScaler\n",
        "from sklearn.naive_bayes import GaussianNB\n",
        "from sklearn.metrics import accuracy_score\n",
        "df = pd.read_csv(\"/content/College project - early prediction of PCOS (Responses) - Form Responses 1 (1).csv\")\n",
        "X = df.drop(columns=['Timestamp', 'Name','Have you been diagnosed with PCOS/PCOD','Gender','Location','Unnamed: 25'])\n",
        "y = df['Have you been diagnosed with PCOS/PCOD']\n",
        "label_encoder = LabelEncoder()\n",
        "for col in X.select_dtypes(include=['object']):\n",
        "    X[col] = label_encoder.fit_transform(X[col])\n",
        "label_encoder_y = LabelEncoder()\n",
        "y = label_encoder_y.fit_transform(y)\n",
        "X_train, X_test, y_train, y_test = train_test_split(X, y, test_size=0.11, random_state=50)\n",
        "scaler = StandardScaler()\n",
        "X_train_scaled = scaler.fit_transform(X_train)\n",
        "X_test_scaled = scaler.transform(X_test)\n",
        "gnb_classifier = GaussianNB()\n",
        "gnb_classifier.fit(X_train_scaled, y_train)\n",
        "y_pred = gnb_classifier.predict(X_test_scaled)\n",
        "accuracy = accuracy_score(y_test, y_pred)\n",
        "print(\"Gaussian Naive Bayes Accuracy:\", accuracy)"
      ],
      "metadata": {
        "colab": {
          "base_uri": "https://localhost:8080/"
        },
        "id": "DREk6EPN_NKK",
        "outputId": "cd9a9607-6e0e-4391-e842-dfd7a4b9807e"
      },
      "execution_count": null,
      "outputs": [
        {
          "output_type": "stream",
          "name": "stdout",
          "text": [
            "Gaussian Naive Bayes Accuracy: 0.8849557522123894\n"
          ]
        }
      ]
    },
    {
      "cell_type": "markdown",
      "source": [
        "Neural Networks"
      ],
      "metadata": {
        "id": "UBlUqNI1Ak_7"
      }
    },
    {
      "cell_type": "code",
      "source": [
        "import pandas as pd\n",
        "from sklearn.model_selection import train_test_split\n",
        "from sklearn.preprocessing import LabelEncoder, StandardScaler\n",
        "from tensorflow.keras.models import Sequential\n",
        "from tensorflow.keras.layers import Dense\n",
        "from sklearn.metrics import accuracy_score\n",
        "\n",
        "\n",
        "df = pd.read_csv(\"/content/College project - early prediction of PCOS (Responses) - Form Responses 1 (1).csv\")\n",
        "\n",
        "\n",
        "X = df.drop(columns=['Timestamp', 'Name','Have you been diagnosed with PCOS/PCOD','Gender','Location','Unnamed: 25'])\n",
        "y = df['Have you been diagnosed with PCOS/PCOD']\n",
        "\n",
        "\n",
        "label_encoder = LabelEncoder()\n",
        "for col in X.select_dtypes(include=['object']):\n",
        "    X[col] = label_encoder.fit_transform(X[col])\n",
        "\n",
        "\n",
        "label_encoder_y = LabelEncoder()\n",
        "y = label_encoder_y.fit_transform(y)\n",
        "\n",
        "\n",
        "X_train, X_test, y_train, y_test = train_test_split(X, y, test_size=0.1, random_state=50)\n",
        "\n",
        "\n",
        "scaler = StandardScaler()\n",
        "X_train_scaled = scaler.fit_transform(X_train)\n",
        "X_test_scaled = scaler.transform(X_test)\n",
        "\n",
        "\n",
        "model = Sequential([\n",
        "    Dense(64, activation='relu', input_shape=(X_train_scaled.shape[1],)),\n",
        "    Dense(64, activation='relu'),\n",
        "    Dense(1, activation='sigmoid')\n",
        "])\n",
        "\n",
        "\n",
        "model.compile(optimizer='adam',\n",
        "              loss='binary_crossentropy',\n",
        "              metrics=['accuracy'])\n",
        "\n",
        "\n",
        "model.fit(X_train_scaled, y_train, epochs=10, batch_size=32, validation_split=0.1)\n",
        "\n",
        "\n",
        "loss, accuracy = model.evaluate(X_test_scaled, y_test)\n",
        "print(\"Neural Networks Accuracy:\", accuracy)\n"
      ],
      "metadata": {
        "colab": {
          "base_uri": "https://localhost:8080/"
        },
        "id": "u6PsxP7MAa29",
        "outputId": "b38e5ea2-269a-44e1-9a1c-3522277951fd"
      },
      "execution_count": null,
      "outputs": [
        {
          "output_type": "stream",
          "name": "stdout",
          "text": [
            "Epoch 1/10\n",
            "26/26 [==============================] - 2s 12ms/step - loss: 0.5522 - accuracy: 0.6998 - val_loss: 0.4548 - val_accuracy: 0.8804\n",
            "Epoch 2/10\n",
            "26/26 [==============================] - 0s 5ms/step - loss: 0.3852 - accuracy: 0.8511 - val_loss: 0.3726 - val_accuracy: 0.8804\n",
            "Epoch 3/10\n",
            "26/26 [==============================] - 0s 4ms/step - loss: 0.3129 - accuracy: 0.8620 - val_loss: 0.3472 - val_accuracy: 0.8804\n",
            "Epoch 4/10\n",
            "26/26 [==============================] - 0s 5ms/step - loss: 0.2804 - accuracy: 0.8729 - val_loss: 0.3411 - val_accuracy: 0.8804\n",
            "Epoch 5/10\n",
            "26/26 [==============================] - 0s 5ms/step - loss: 0.2605 - accuracy: 0.8826 - val_loss: 0.3415 - val_accuracy: 0.8804\n",
            "Epoch 6/10\n",
            "26/26 [==============================] - 0s 4ms/step - loss: 0.2454 - accuracy: 0.8898 - val_loss: 0.3428 - val_accuracy: 0.8804\n",
            "Epoch 7/10\n",
            "26/26 [==============================] - 0s 4ms/step - loss: 0.2321 - accuracy: 0.8947 - val_loss: 0.3483 - val_accuracy: 0.8804\n",
            "Epoch 8/10\n",
            "26/26 [==============================] - 0s 4ms/step - loss: 0.2203 - accuracy: 0.9007 - val_loss: 0.3381 - val_accuracy: 0.8804\n",
            "Epoch 9/10\n",
            "26/26 [==============================] - 0s 4ms/step - loss: 0.2077 - accuracy: 0.9019 - val_loss: 0.3456 - val_accuracy: 0.8804\n",
            "Epoch 10/10\n",
            "26/26 [==============================] - 0s 5ms/step - loss: 0.1981 - accuracy: 0.9056 - val_loss: 0.3499 - val_accuracy: 0.8804\n",
            "4/4 [==============================] - 0s 4ms/step - loss: 0.2100 - accuracy: 0.9314\n",
            "Neural Networks Accuracy: 0.9313725233078003\n"
          ]
        }
      ]
    },
    {
      "cell_type": "markdown",
      "source": [
        "Extra Tree Classifier"
      ],
      "metadata": {
        "id": "qFqd4rbzKbj0"
      }
    },
    {
      "cell_type": "code",
      "source": [
        "from sklearn.ensemble import ExtraTreesClassifier\n",
        "\n",
        "X_train, X_test, y_train, y_test = train_test_split(X, y, test_size=0.1, random_state=50)\n",
        "\n",
        "# Standardize features by removing the mean and scaling to unit variance\n",
        "scaler = StandardScaler()\n",
        "X_train_scaled = scaler.fit_transform(X_train)\n",
        "X_test_scaled = scaler.transform(X_test)\n",
        "\n",
        "# Instantiate ExtraTreesClassifier\n",
        "extra_trees = ExtraTreesClassifier(random_state=42)\n",
        "\n",
        "# Train the classifier\n",
        "extra_trees.fit(X_train_scaled, y_train)\n",
        "\n",
        "# Make predictions on the testing set\n",
        "y_pred = extra_trees.predict(X_test_scaled)\n",
        "\n",
        "# Calculate the accuracy of the model\n",
        "accuracy = accuracy_score(y_test, y_pred)\n",
        "print(\"Extra Tree Classifier Accuracy:\", accuracy)"
      ],
      "metadata": {
        "colab": {
          "base_uri": "https://localhost:8080/"
        },
        "id": "uJnvq8vUKd_U",
        "outputId": "4a5e5387-ecba-401b-881e-9d1f879e61c4"
      },
      "execution_count": null,
      "outputs": [
        {
          "output_type": "stream",
          "name": "stdout",
          "text": [
            "Extra Tree Classifier Accuracy: 0.9411764705882353\n"
          ]
        }
      ]
    },
    {
      "cell_type": "markdown",
      "source": [
        "GDBT"
      ],
      "metadata": {
        "id": "hjRlWLKFQMSr"
      }
    },
    {
      "cell_type": "code",
      "source": [
        "from sklearn.ensemble import GradientBoostingClassifier\n",
        "X_train, X_test, y_train, y_test = train_test_split(X, y, test_size=0.1, random_state=50)\n",
        "\n",
        "# Standardize features by removing the mean and scaling to unit variance\n",
        "scaler = StandardScaler()\n",
        "X_train_scaled = scaler.fit_transform(X_train)\n",
        "X_test_scaled = scaler.transform(X_test)\n",
        "\n",
        "# Instantiate GradientBoostingClassifier\n",
        "gbdt_classifier = GradientBoostingClassifier(random_state=42)\n",
        "\n",
        "# Train the classifier\n",
        "gbdt_classifier.fit(X_train_scaled, y_train)\n",
        "\n",
        "# Make predictions on the testing set\n",
        "y_pred = gbdt_classifier.predict(X_test_scaled)\n",
        "\n",
        "# Calculate the accuracy of the model\n",
        "accuracy = accuracy_score(y_test, y_pred)\n",
        "print(\"GDBT Accuracy:\", accuracy)"
      ],
      "metadata": {
        "colab": {
          "base_uri": "https://localhost:8080/"
        },
        "id": "mKB-MZ9yQL1x",
        "outputId": "3747a253-c1b5-4bbb-b2be-f04c84c35d14"
      },
      "execution_count": null,
      "outputs": [
        {
          "output_type": "stream",
          "name": "stdout",
          "text": [
            "GDBT Accuracy: 0.9509803921568627\n"
          ]
        }
      ]
    },
    {
      "cell_type": "markdown",
      "source": [
        "Bagging of the above algorithms"
      ],
      "metadata": {
        "id": "SGqFvgwjJJ-k"
      }
    },
    {
      "cell_type": "code",
      "source": [
        "from sklearn.datasets import load_iris\n",
        "from sklearn.model_selection import train_test_split\n",
        "from sklearn.ensemble import BaggingClassifier\n",
        "from sklearn.neighbors import KNeighborsClassifier\n",
        "from sklearn.ensemble import RandomForestClassifier, GradientBoostingClassifier\n",
        "from sklearn.linear_model import LogisticRegression\n",
        "from sklearn.tree import DecisionTreeClassifier, ExtraTreeClassifier\n",
        "from sklearn.svm import SVC\n",
        "from sklearn.naive_bayes import GaussianNB\n",
        "from sklearn.neural_network import MLPClassifier\n",
        "from sklearn.metrics import accuracy_score\n",
        "from sklearn.ensemble import BaggingClassifier, VotingClassifier\n",
        "\n",
        "\n",
        "df = pd.read_csv(\"/content/College project - early prediction of PCOS (Responses) - Form Responses 1 (1).csv\")\n",
        "\n",
        "X = df.drop(columns=['Timestamp', 'Name','Have you been diagnosed with PCOS/PCOD','Gender','Location','Unnamed: 25'])\n",
        "y = df['Have you been diagnosed with PCOS/PCOD']\n",
        "\n",
        "from sklearn.preprocessing import LabelEncoder, StandardScaler\n",
        "label_encoder = LabelEncoder()\n",
        "for col in X.select_dtypes(include=['object']):\n",
        "  X[col] = label_encoder.fit_transform(X[col])\n",
        "\n",
        "\n",
        "X_train, X_test, y_train, y_test = train_test_split(X, y, test_size=0.2, random_state=42)\n",
        "\n",
        "\n",
        "knn = KNeighborsClassifier()\n",
        "logistic = LogisticRegression()\n",
        "extra_tree = ExtraTreeClassifier()\n",
        "decision_tree = DecisionTreeClassifier()\n",
        "svm = SVC(kernel='linear')\n",
        "random_forest = RandomForestClassifier()\n",
        "naive_bayes = GaussianNB()\n",
        "neural_network = MLPClassifier(max_iter=1000)\n",
        "gradient_boosting = GradientBoostingClassifier()\n",
        "\n",
        "\n",
        "bagging_knn = BaggingClassifier(base_estimator=knn, n_estimators=10, random_state=42)\n",
        "bagging_logistic = BaggingClassifier(base_estimator=logistic, n_estimators=10, random_state=42)\n",
        "bagging_decision_tree = BaggingClassifier(base_estimator=decision_tree, n_estimators=10, random_state=42)\n",
        "bagging_svm = BaggingClassifier(base_estimator=svm, n_estimators=10, random_state=42)\n",
        "bagging_extra_tree = BaggingClassifier(base_estimator=extra_tree, n_estimators=10, random_state=42)\n",
        "bagging_random_forest = BaggingClassifier(base_estimator=random_forest, n_estimators=10, random_state=42)\n",
        "bagging_naive_bayes = BaggingClassifier(base_estimator=naive_bayes, n_estimators=10, random_state=42)\n",
        "bagging_neural_network = BaggingClassifier(base_estimator=neural_network, n_estimators=10, random_state=42)\n",
        "bagging_gradient_boosting = BaggingClassifier(base_estimator=gradient_boosting, n_estimators=10, random_state=42)\n",
        "\n",
        "ensemble = VotingClassifier(estimators=[\n",
        "    ('bagging_knn', bagging_knn),\n",
        "    ('bagging_logistic', bagging_logistic),\n",
        "    ('bagging_decision_tree', bagging_decision_tree),\n",
        "    ('bagging_extra_tree', bagging_extra_tree),\n",
        "    ('bagging_svm', bagging_svm),\n",
        "    ('bagging_random_forest', bagging_random_forest),\n",
        "    ('bagging_naive_bayes', bagging_naive_bayes),\n",
        "    ('bagging_neural_network', bagging_neural_network),\n",
        "    ('bagging_gradient_boosting', bagging_gradient_boosting)\n",
        "], voting='hard')\n",
        "\n",
        "ensemble.fit(X_train, y_train)\n",
        "\n",
        "y_pred = ensemble.predict(X_test)\n",
        "accuracy = accuracy_score(y_test, y_pred)\n",
        "print(\"Accuracy of the ensemble model:\", accuracy)"
      ],
      "metadata": {
        "colab": {
          "base_uri": "https://localhost:8080/"
        },
        "id": "Ogb30VjeJMkC",
        "outputId": "a7203c30-97dc-49f4-d7c9-9f70a07b445c"
      },
      "execution_count": null,
      "outputs": [
        {
          "output_type": "stream",
          "name": "stdout",
          "text": [
            "Accuracy of the ensemble model: 0.9313725490196079\n"
          ]
        },
        {
          "output_type": "stream",
          "name": "stderr",
          "text": [
            "/usr/local/lib/python3.10/dist-packages/sklearn/naive_bayes.py:514: RuntimeWarning: divide by zero encountered in log\n",
            "  jointi = np.log(self.class_prior_[i])\n"
          ]
        }
      ]
    },
    {
      "cell_type": "code",
      "source": [
        "import pandas as pd\n",
        "\n",
        "input_data = pd.DataFrame({\n",
        "    'Age': [25],\n",
        "    'BMI': [21.5],\n",
        "    'Weight (in kg)': [60],\n",
        "    'Height (in cm)': [160],\n",
        "    'Are you/Have you been Pregnant?': [0],\n",
        "    'No of abortions/miscarriages (- please enter 0 if none)': [0],\n",
        "    'After how many months do u get your period?': [28],\n",
        "    'Do you have hair loss?': [0],\n",
        "    'Do you regularly exercise?': [1],\n",
        "    'Junk food intake': [0],\n",
        "    'Do you gain weight easily?': [0],\n",
        "    'How is your Blood pressure ?': [1],\n",
        "    'Do you have excessive facial/body hair?': [0],\n",
        "    'How many years have you been married - (0 if unmarried)': [0],\n",
        "    'Do you have acne/oily skin?': [0],\n",
        "    'Are you stressed often?': [0],\n",
        "    'Are you noticing skin darkening recently?': [0],\n",
        "    'Do you experience mood swings ?': [0],\n",
        "    'How long does your period last ? (How long do you bleed - in Days)': [5],\n",
        "    'Do you have excessive facial/body hair?': [0],\n",
        "    'do you have a more active or sedentary life style?': [1],\n",
        "    'Do you have thyroid?': [0],\n",
        "})\n",
        "\n",
        "\n",
        "\n",
        "prediction = ensemble.predict(input_data)\n",
        "print(\"Predicted class:\", prediction[0])\n"
      ],
      "metadata": {
        "colab": {
          "base_uri": "https://localhost:8080/"
        },
        "id": "sH1TfoximpFE",
        "outputId": "454e608a-7a76-4f2f-966c-0486500d759d"
      },
      "execution_count": null,
      "outputs": [
        {
          "output_type": "stream",
          "name": "stdout",
          "text": [
            "Predicted class: 1\n"
          ]
        },
        {
          "output_type": "stream",
          "name": "stderr",
          "text": [
            "/usr/local/lib/python3.10/dist-packages/sklearn/naive_bayes.py:514: RuntimeWarning: divide by zero encountered in log\n",
            "  jointi = np.log(self.class_prior_[i])\n"
          ]
        }
      ]
    }
  ]
}